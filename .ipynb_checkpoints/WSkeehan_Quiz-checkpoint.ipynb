{
 "cells": [
  {
   "cell_type": "markdown",
   "metadata": {},
   "source": [
    "# Data Science Quiz"
   ]
  },
  {
   "cell_type": "markdown",
   "metadata": {},
   "source": [
    "### Instructions\n",
    "\n",
    "- Fork and Clone\n",
    "- Work on quiz\n",
    "- Push back up to your repository"
   ]
  },
  {
   "cell_type": "markdown",
   "metadata": {},
   "source": [
    "### Questions"
   ]
  },
  {
   "cell_type": "markdown",
   "metadata": {},
   "source": [
    "1. A vector is given, `[2,3,9]`. What's the norm?"
   ]
  },
  {
   "cell_type": "code",
   "execution_count": 2,
   "metadata": {},
   "outputs": [
    {
     "data": {
      "text/plain": [
       "9.695359714832659"
      ]
     },
     "execution_count": 2,
     "metadata": {},
     "output_type": "execute_result"
    }
   ],
   "source": [
    "import numpy as np\n",
    "v = [2,3,9]\n",
    "np.linalg.norm(v)\n",
    "# length of the vector, does not include direction"
   ]
  },
  {
   "cell_type": "markdown",
   "metadata": {},
   "source": [
    "2. I have a biased 2-sided coin. P(T) = 0.45. What's the probability, if I flip the coin 100 times, that I will get exactly 14 heads?"
   ]
  },
  {
   "cell_type": "code",
   "execution_count": 2,
   "metadata": {},
   "outputs": [
    {
     "data": {
      "text/plain": [
       "2.8937462319366412e-11"
      ]
     },
     "execution_count": 2,
     "metadata": {},
     "output_type": "execute_result"
    }
   ],
   "source": [
    "import scipy.stats as scs\n",
    "rv_tails = scs.binom(100, 0.45)\n",
    "rv_tails.pmf(14)"
   ]
  },
  {
   "cell_type": "markdown",
   "metadata": {},
   "source": [
    "3. What is the rank of a matrix?"
   ]
  },
  {
   "cell_type": "markdown",
   "metadata": {},
   "source": [
    "The rank of a matrix is the number of linearly independent columns (or rows if specified)."
   ]
  },
  {
   "cell_type": "markdown",
   "metadata": {},
   "source": [
    "4. Why is rank important for Linear Regression?"
   ]
  },
  {
   "cell_type": "markdown",
   "metadata": {},
   "source": [
    "In order for Linear Regression to function properly the columns and rows of data should be linearly independent. The colinearity of the columns will mess up the model because one column could be used to predict the other column."
   ]
  },
  {
   "cell_type": "markdown",
   "metadata": {},
   "source": [
    "5. What is the purpose of the sigmoid function in a Logistic Regression model?"
   ]
  },
  {
   "cell_type": "markdown",
   "metadata": {},
   "source": [
    "The sigmoid function changes log odds to probabilities which, with a specified threshold, will classify the prediction."
   ]
  },
  {
   "cell_type": "markdown",
   "metadata": {},
   "source": [
    "6. What is bias vs variance?"
   ]
  },
  {
   "cell_type": "markdown",
   "metadata": {},
   "source": [
    "Bias is how much the prediction differs from the true value while variance measures the spread between the numbers (how far a number is from the mean)."
   ]
  },
  {
   "cell_type": "markdown",
   "metadata": {},
   "source": [
    "7. What is a hyperparameter? What part of the dataset (train, validation or test) is responsible for determining this value?"
   ]
  },
  {
   "cell_type": "markdown",
   "metadata": {},
   "source": [
    "A hyperparameter is a setting of the model that is determined before the model begins to learn. If we're using a grid search, the hyperparameters are determined using the validation data set."
   ]
  },
  {
   "cell_type": "markdown",
   "metadata": {},
   "source": [
    "8. Model selection via cross validation. What part of the dataset (train, validation or test) is responsible for choosing the best model?"
   ]
  },
  {
   "cell_type": "markdown",
   "metadata": {},
   "source": [
    "The validation part of the dataset is responsible for choosing the best model."
   ]
  },
  {
   "cell_type": "markdown",
   "metadata": {},
   "source": [
    "9. What is parametric vs non-parametric model?"
   ]
  },
  {
   "cell_type": "markdown",
   "metadata": {},
   "source": [
    "A parametric model assumes that the data follows a certain type of distribution (normal, binomial, Poisson, etc) while a non-parametric model does not make that assumption."
   ]
  },
  {
   "cell_type": "markdown",
   "metadata": {},
   "source": [
    "10. What models do you need to scale the data prior to fitting?"
   ]
  },
  {
   "cell_type": "markdown",
   "metadata": {},
   "source": [
    "Any models that use Euclidean distance (or a similar metric) to predict outcomes or score the model need to be scaled. This lis of models include KNN, PCA, Linear Regression, and Logistic Regression."
   ]
  },
  {
   "cell_type": "markdown",
   "metadata": {},
   "source": [
    "11. What is entropy? Which model uses this concept?\n"
   ]
  },
  {
   "cell_type": "markdown",
   "metadata": {},
   "source": [
    "Entropy is the measure of disorder in data. Decision Trees (and Random Forests by extension) use entropy to determine how the decision tree should split. The parent data will be split into child data based on different features. The tree will then keep the split that has the smallest amount of entropy."
   ]
  },
  {
   "cell_type": "markdown",
   "metadata": {},
   "source": [
    "12. How is a random forest generated?"
   ]
  },
  {
   "cell_type": "markdown",
   "metadata": {},
   "source": [
    "A random forest is a collection of decision trees that are split on different features. When the forest makes a prediction it will either take the average or the majority depending on if the model is a regression or classification. This method reduces variance."
   ]
  },
  {
   "cell_type": "markdown",
   "metadata": {},
   "source": [
    "13. How do you determine the correct number of clusters when using KMeans?"
   ]
  },
  {
   "cell_type": "markdown",
   "metadata": {},
   "source": [
    "There are different methods to help determine the correct number of clusters if it is not being set by the user (e.g. there were 3 classes of wine or the user knows how many groups they want). Essentially, the methods (elbow, average silhouette) fit the model varying the number clusters. The elbow method looks at how close the items in each cluster are to each other. It scores each algorithm (varying k) using within-cluster sum of squares and the user looks for a bend in the graph. The average silhouette method looks at how well each data point lies within the cluster. It scores each algorithm using the average silhouette and the user looks for the highest average silhouette value."
   ]
  },
  {
   "cell_type": "markdown",
   "metadata": {},
   "source": [
    "14. What is a dendrogram?"
   ]
  },
  {
   "cell_type": "markdown",
   "metadata": {},
   "source": [
    "A dendrogram is a visual representation of hierarchical clustering that shows how the data points are clustered together."
   ]
  },
  {
   "cell_type": "markdown",
   "metadata": {},
   "source": [
    "15. What is linkage?"
   ]
  },
  {
   "cell_type": "markdown",
   "metadata": {},
   "source": [
    "Linkage is a scipy method that calculates the distance (single, average, complete, centroid, etc.) between clusters and merges the two clusters together that have the smallest distance. "
   ]
  },
  {
   "cell_type": "markdown",
   "metadata": {},
   "source": [
    "16. How does a recommender model work?"
   ]
  },
  {
   "cell_type": "markdown",
   "metadata": {},
   "source": [
    "A recommender model looks at users, items, and how they interact. These models can look at similiarity of items and/or similiarity of users to make recommendations."
   ]
  },
  {
   "cell_type": "markdown",
   "metadata": {},
   "source": [
    "17. How can you reduce the number of features in a model?"
   ]
  },
  {
   "cell_type": "markdown",
   "metadata": {},
   "source": [
    "There are different methods to reduce the number of features in a model. Some of these methods are Lasso Regression, looking at feature importance when using a decision tree or random forest, or looking at the correlation between features and the outcome."
   ]
  },
  {
   "cell_type": "markdown",
   "metadata": {},
   "source": [
    "18. What is a good use of PCA?"
   ]
  },
  {
   "cell_type": "markdown",
   "metadata": {},
   "source": [
    "PCA is used for vizualization of data clustering and data compression."
   ]
  },
  {
   "cell_type": "markdown",
   "metadata": {},
   "source": [
    "19. In general, how do neural networks \"learn\"?"
   ]
  },
  {
   "cell_type": "markdown",
   "metadata": {},
   "source": [
    "Neural networks learn through a process called back propagation. Data is fed through the layers of a network, an output is produced, some type of error calculation is done and the error is fed back to the network. This process continues until the error is kept at a minimum."
   ]
  },
  {
   "cell_type": "markdown",
   "metadata": {},
   "source": [
    "20. What is your favorite model? Why?"
   ]
  },
  {
   "cell_type": "markdown",
   "metadata": {},
   "source": [
    "My favorite model is Random Forest. While performing a gridsearch can take a long time, it will provide you with the best parameters so there is no need for guess and check work. Random Forests can also be used for regression or classification. "
   ]
  }
 ],
 "metadata": {
  "kernelspec": {
   "display_name": "Python 3",
   "language": "python",
   "name": "python3"
  },
  "language_info": {
   "codemirror_mode": {
    "name": "ipython",
    "version": 3
   },
   "file_extension": ".py",
   "mimetype": "text/x-python",
   "name": "python",
   "nbconvert_exporter": "python",
   "pygments_lexer": "ipython3",
   "version": "3.7.2"
  }
 },
 "nbformat": 4,
 "nbformat_minor": 2
}
